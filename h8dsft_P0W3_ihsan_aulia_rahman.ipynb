{
  "cells": [
    {
      "cell_type": "markdown",
      "metadata": {
        "id": "UFxn0Dd0d0s5"
      },
      "source": [
        "#**Graded Challenge 3**"
      ]
    },
    {
      "cell_type": "markdown",
      "metadata": {
        "id": "kHQlQqU4d0s6"
      },
      "source": [
        "##**Identity**"
      ]
    },
    {
      "cell_type": "markdown",
      "metadata": {
        "id": "yBolYUGxpWeF"
      },
      "source": [
        "Ihsan Aulia Rahman\n",
        "\n",
        "Full Time Data Science\n",
        "\n",
        "HCK-Batch-001"
      ]
    },
    {
      "cell_type": "markdown",
      "metadata": {
        "id": "HxDFFBHvmcj0"
      },
      "source": [
        "#**A. Description**"
      ]
    },
    {
      "cell_type": "markdown",
      "metadata": {
        "id": "AwIYe1G1pgMx"
      },
      "source": [
        "##**A. 1. Problem Statement**"
      ]
    },
    {
      "cell_type": "markdown",
      "metadata": {
        "id": "Ipk_6LgP5WHv"
      },
      "source": [
        "The global fashion e-commerce platform The Look is looking to evaluate it's sales report. This evaluation is concering particularly about user retention. We are tasked to find informations around retentive users.\n",
        "\n",
        "As for who categorizes as retentive user, we are setting the standard as a user who made 3 transactions or more in the first semester of year 2022. From this definition we are venturing to seek the answers of questions surrounding retentive users, such as:\n",
        "\n",
        "1. Who are the retentive users in our user database?\n",
        "2. How many transactions do retentive users made?\n",
        "3. How much money do retentive users spent?\n",
        "4. Where do retentive users come from?\n",
        "5. What correlating factor(s) that could influence user retention?"
      ]
    },
    {
      "cell_type": "markdown",
      "metadata": {
        "id": "ppsFcdLSpoxd"
      },
      "source": [
        "##**A.2. Objective**"
      ]
    },
    {
      "cell_type": "markdown",
      "metadata": {
        "id": "RYIlDyG5psp5"
      },
      "source": [
        "The goals of this assignment are to answer questions from the problem statement using queries into company data, present the discoveries in a clear and concise manner, and to infer all the informations with analyses and conclusion."
      ]
    },
    {
      "cell_type": "markdown",
      "metadata": {
        "id": "rTHXOC0dwXcR"
      },
      "source": [
        "#**B. Libraries**"
      ]
    },
    {
      "cell_type": "markdown",
      "metadata": {
        "id": "ccfIB0yayDcT"
      },
      "source": [
        "Here we import the necessary function libraries for this assignment."
      ]
    },
    {
      "cell_type": "code",
      "execution_count": 1,
      "metadata": {
        "colab": {
          "base_uri": "https://localhost:8080/"
        },
        "id": "7LxOSJ6zd0s-",
        "outputId": "cc8efb67-3fe3-49f7-fb82-94087daac7e9"
      },
      "outputs": [],
      "source": [
        "!pip install mysql-connector-python\n",
        "\n",
        "import numpy as np\n",
        "import pandas as pd\n",
        "import matplotlib.pyplot as plt\n",
        "import seaborn as sns\n",
        "import scipy\n",
        "import scipy.stats as stats\n",
        "import sympy as sy\n",
        "import mysql.connector\n",
        "\n",
        "from numpy.linalg import inv, det, eig\n",
        "from numpy import diag\n",
        "from pylab import *\n",
        "from sympy.tensor.array import derive_by_array\n",
        "from google.colab import auth\n",
        "from google.cloud import bigquery\n",
        "\n",
        "def plot_vector2d(vector2d, origin=[0, 0], **options):\n",
        "    return plt.arrow(origin[0], origin[1], vector2d[0], vector2d[1],\n",
        "              head_width=0.2, head_length=0.3, length_includes_head=True,\n",
        "              **options)"
      ]
    },
    {
      "cell_type": "code",
      "execution_count": null,
      "metadata": {
        "id": "4mjUh8XFvSGC"
      },
      "outputs": [],
      "source": [
        "auth.authenticate_user()\n",
        "client = bigquery.Client(project = 'week3-360509')"
      ]
    },
    {
      "cell_type": "markdown",
      "metadata": {
        "id": "USTy66nXvU_z"
      },
      "source": [
        "#**C. Problem Elaborations**"
      ]
    },
    {
      "cell_type": "markdown",
      "metadata": {
        "id": "9OCytPyk5xxZ"
      },
      "source": [
        "##**Codes**"
      ]
    },
    {
      "cell_type": "markdown",
      "metadata": {
        "id": "hLz6WA9191bE"
      },
      "source": [
        "Here are the codes to query the needed tables straight from BigQuery."
      ]
    },
    {
      "cell_type": "code",
      "execution_count": null,
      "metadata": {
        "id": "3wIK8ZFy52oJ"
      },
      "outputs": [],
      "source": [
        "Retention_Rate = client.query(\n",
        "'''\n",
        "SELECT DISTINCT\n",
        "#Querying number of retentive users\n",
        "(\n",
        " SELECT COUNT(*) AS Retentive_Users #Counting rows of retentive users table\n",
        " FROM(\n",
        "      SELECT COUNT(*) AS Number_of_Transactions #Querying retentive users\n",
        "      FROM bigquery-public-data.thelook_ecommerce.orders\n",
        "      WHERE created_at>=\"2022-01-01\" and created_at<=\"2022-06-30\"\n",
        "      GROUP BY user_id\n",
        "      HAVING COUNT(*)>=3\n",
        "      ORDER BY COUNT(*) DESC\n",
        "     )\n",
        ") AS Loyal_Users,\n",
        "\n",
        "#Querying total number of users\n",
        "(\n",
        " SELECT COUNT(*) AS Total_Users\n",
        " FROM bigquery-public-data.thelook_ecommerce.users\n",
        ") AS Total_Users,\n",
        "\n",
        "#Querying the percentage of retentive users to total number of users\n",
        "(\n",
        " (\n",
        " SELECT COUNT(*) AS Retentive_Users\n",
        " FROM(\n",
        "      SELECT COUNT(*) AS Number_of_Transactions\n",
        "      FROM bigquery-public-data.thelook_ecommerce.orders\n",
        "      WHERE created_at>=\"2022-01-01\" and created_at<=\"2022-06-30\"\n",
        "      GROUP BY user_id\n",
        "      HAVING COUNT(*)>=3\n",
        "      ORDER BY COUNT(*) DESC\n",
        "     )\n",
        " )\n",
        " /\n",
        " (\n",
        " SELECT COUNT(*) AS Total_Users\n",
        " FROM bigquery-public-data.thelook_ecommerce.users\n",
        " )\n",
        " *100\n",
        ") AS Percentage_of_Retentive_Users\n",
        "\n",
        "FROM bigquery-public-data.thelook_ecommerce.orders \n",
        "LEFT JOIN bigquery-public-data.thelook_ecommerce.users\n",
        "ON user_id = id\n",
        "'''\n",
        ").to_dataframe()"
      ]
    },
    {
      "cell_type": "code",
      "execution_count": null,
      "metadata": {
        "id": "mb_rQpKX53Bf"
      },
      "outputs": [],
      "source": [
        "Retentive_User_Stats = client.query(\n",
        "'''\n",
        "#Querying transaction statistics of retentive users\n",
        "SELECT \n",
        "MIN(Number_of_Transactions) AS Lowest_Number_of_Transactions,\n",
        "MAX(Number_of_Transactions) AS Highest_Number_of_Transactions,\n",
        "AVG(Number_of_Transactions) AS Average_Number_of_Transactions\n",
        "\n",
        "FROM(\n",
        "     SELECT \n",
        "     user_id AS User_ID,\n",
        "     COUNT(*) AS Number_of_Transactions\n",
        "\n",
        "     FROM bigquery-public-data.thelook_ecommerce.orders\n",
        "     WHERE created_at>=\"2022-01-01\" and created_at<=\"2022-06-30\"\n",
        "     GROUP BY user_id\n",
        "     HAVING COUNT(*)>=3\n",
        "     ORDER BY COUNT(*) DESC\n",
        "    )\n",
        "'''\n",
        ").to_dataframe()"
      ]
    },
    {
      "cell_type": "code",
      "execution_count": null,
      "metadata": {
        "id": "OsevFZ6M53dI"
      },
      "outputs": [],
      "source": [
        "Retentive_User_Spending = client.query(\n",
        "'''\n",
        "#Querying spending statistics of retentive users\n",
        "SELECT \n",
        "MIN(Total_Spending) AS Lowest_Spending,\n",
        "MAX(Total_Spending) AS Highest_Spending,\n",
        "AVG(Total_Spending) AS Average_Spending\n",
        "\n",
        "FROM(\n",
        "     SELECT #Querying retentive users table\n",
        "     user_id AS User_ID_Orders,\n",
        "     COUNT(*) AS Number_of_Transactions\n",
        "     \n",
        "     FROM bigquery-public-data.thelook_ecommerce.orders\n",
        "     WHERE created_at>=\"2022-01-01\" and created_at<=\"2022-06-30\"\n",
        "     GROUP BY user_id\n",
        "     HAVING COUNT(*)>=3\n",
        "     ORDER BY COUNT(*) DESC\n",
        "    )\n",
        "JOIN(\n",
        "     SELECT #Querying spending amount of all users\n",
        "     user_id as User_ID_Items,\n",
        "     SUM(sale_price) AS Total_Spending\n",
        "     \n",
        "     FROM bigquery-public-data.thelook_ecommerce.order_items\n",
        "     WHERE created_at>=\"2022-01-01\" and created_at<=\"2022-06-30\"\n",
        "     GROUP BY user_id\n",
        "     ORDER BY SUM(sale_price) ASC\n",
        "     )\n",
        "ON User_ID_Orders = User_ID_Items\n",
        "\n",
        "'''\n",
        ").to_dataframe()"
      ]
    },
    {
      "cell_type": "code",
      "execution_count": null,
      "metadata": {
        "id": "pt00ZUr953uu"
      },
      "outputs": [],
      "source": [
        "Retentive_User_Source = client.query(\n",
        "'''\n",
        "#Querying number of retentive users by traffic sources\n",
        "SELECT \n",
        "Traffic_Source AS Traffic_Source,\n",
        "COUNT (*) AS Numbers\n",
        "\n",
        "FROM(\n",
        "     SELECT #Querying retentive users table\n",
        "     user_id AS User_ID_Orders,\n",
        "     COUNT(*) AS Number_of_Transactions\n",
        "     \n",
        "     FROM bigquery-public-data.thelook_ecommerce.orders\n",
        "     WHERE created_at>=\"2022-01-01\" and created_at<=\"2022-06-30\"\n",
        "     GROUP BY user_id\n",
        "     HAVING COUNT(*)>=3\n",
        "     ORDER BY COUNT(*) DESC\n",
        "    )\n",
        "JOIN(\n",
        "     SELECT #Querying traffic sources of all users\n",
        "     id AS User_ID_Users,\n",
        "     traffic_source AS Traffic_Source\n",
        "     \n",
        "     FROM bigquery-public-data.thelook_ecommerce.users\n",
        "     )\n",
        "ON User_ID_Orders = User_ID_Users\n",
        "GROUP BY Traffic_Source\n",
        "ORDER BY Numbers DESC\n",
        "\n",
        "'''\n",
        ").to_dataframe()"
      ]
    },
    {
      "cell_type": "code",
      "execution_count": null,
      "metadata": {
        "id": "ZqxCKhxV54Jj"
      },
      "outputs": [],
      "source": [
        "Source_and_Retention = client.query(\n",
        "'''\n",
        "#Querying traffic sources and retention of all users\n",
        "SELECT \n",
        "Traffic_Source AS Traffic_Source,\n",
        "IFNULL(User_Retention, 'Intermittent') AS User_Retention\n",
        "\n",
        "FROM(\n",
        "     SELECT #Querying retention of users in retention period\n",
        "     user_id as User_ID_Orders, \n",
        "     COUNT(order_id) AS Numbers_of_Transactions, \n",
        "     CASE WHEN COUNT(order_id) >= 3  THEN 'Retentive'\n",
        "     ELSE 'Intermittent' END AS User_Retention\n",
        "     FROM bigquery-public-data.thelook_ecommerce.orders\n",
        "     WHERE created_at > \"2022-01-01\" and created_at < \"2022-06-30\"\n",
        "     GROUP BY user_id \n",
        "    )\n",
        "RIGHT JOIN(\n",
        "     SELECT #Querying traffic sources of all users\n",
        "     id AS User_ID_Users,\n",
        "     traffic_source AS Traffic_Source\n",
        "     \n",
        "     FROM bigquery-public-data.thelook_ecommerce.users\n",
        "     )\n",
        "ON User_ID_Orders = User_ID_Users\n",
        "ORDER BY User_ID_Users ASC\n",
        "'''\n",
        ").to_dataframe()"
      ]
    },
    {
      "cell_type": "markdown",
      "metadata": {
        "id": "9MLaDOmAIoL0"
      },
      "source": [
        "##**C.1. How much is the percentage of high retention users to all users?**"
      ]
    },
    {
      "cell_type": "markdown",
      "metadata": {
        "id": "uV8lJAn6FUgU"
      },
      "source": [
        "To find out how many of our users who are categorized as retentive, let's open the queried table."
      ]
    },
    {
      "cell_type": "code",
      "execution_count": null,
      "metadata": {
        "colab": {
          "base_uri": "https://localhost:8080/",
          "height": 81
        },
        "id": "bN6et3jXyYrO",
        "outputId": "34812b65-14f2-4068-941c-77b3ffbbe635"
      },
      "outputs": [
        {
          "data": {
            "text/html": [
              "\n",
              "  <div id=\"df-e05b53c3-03da-4997-aa76-b3b87239e8cf\">\n",
              "    <div class=\"colab-df-container\">\n",
              "      <div>\n",
              "<style scoped>\n",
              "    .dataframe tbody tr th:only-of-type {\n",
              "        vertical-align: middle;\n",
              "    }\n",
              "\n",
              "    .dataframe tbody tr th {\n",
              "        vertical-align: top;\n",
              "    }\n",
              "\n",
              "    .dataframe thead th {\n",
              "        text-align: right;\n",
              "    }\n",
              "</style>\n",
              "<table border=\"1\" class=\"dataframe\">\n",
              "  <thead>\n",
              "    <tr style=\"text-align: right;\">\n",
              "      <th></th>\n",
              "      <th>Loyal_Users</th>\n",
              "      <th>Total_Users</th>\n",
              "      <th>Percentage_of_Retentive_Users</th>\n",
              "    </tr>\n",
              "  </thead>\n",
              "  <tbody>\n",
              "    <tr>\n",
              "      <th>0</th>\n",
              "      <td>1041</td>\n",
              "      <td>100000</td>\n",
              "      <td>1.041</td>\n",
              "    </tr>\n",
              "  </tbody>\n",
              "</table>\n",
              "</div>\n",
              "      <button class=\"colab-df-convert\" onclick=\"convertToInteractive('df-e05b53c3-03da-4997-aa76-b3b87239e8cf')\"\n",
              "              title=\"Convert this dataframe to an interactive table.\"\n",
              "              style=\"display:none;\">\n",
              "        \n",
              "  <svg xmlns=\"http://www.w3.org/2000/svg\" height=\"24px\"viewBox=\"0 0 24 24\"\n",
              "       width=\"24px\">\n",
              "    <path d=\"M0 0h24v24H0V0z\" fill=\"none\"/>\n",
              "    <path d=\"M18.56 5.44l.94 2.06.94-2.06 2.06-.94-2.06-.94-.94-2.06-.94 2.06-2.06.94zm-11 1L8.5 8.5l.94-2.06 2.06-.94-2.06-.94L8.5 2.5l-.94 2.06-2.06.94zm10 10l.94 2.06.94-2.06 2.06-.94-2.06-.94-.94-2.06-.94 2.06-2.06.94z\"/><path d=\"M17.41 7.96l-1.37-1.37c-.4-.4-.92-.59-1.43-.59-.52 0-1.04.2-1.43.59L10.3 9.45l-7.72 7.72c-.78.78-.78 2.05 0 2.83L4 21.41c.39.39.9.59 1.41.59.51 0 1.02-.2 1.41-.59l7.78-7.78 2.81-2.81c.8-.78.8-2.07 0-2.86zM5.41 20L4 18.59l7.72-7.72 1.47 1.35L5.41 20z\"/>\n",
              "  </svg>\n",
              "      </button>\n",
              "      \n",
              "  <style>\n",
              "    .colab-df-container {\n",
              "      display:flex;\n",
              "      flex-wrap:wrap;\n",
              "      gap: 12px;\n",
              "    }\n",
              "\n",
              "    .colab-df-convert {\n",
              "      background-color: #E8F0FE;\n",
              "      border: none;\n",
              "      border-radius: 50%;\n",
              "      cursor: pointer;\n",
              "      display: none;\n",
              "      fill: #1967D2;\n",
              "      height: 32px;\n",
              "      padding: 0 0 0 0;\n",
              "      width: 32px;\n",
              "    }\n",
              "\n",
              "    .colab-df-convert:hover {\n",
              "      background-color: #E2EBFA;\n",
              "      box-shadow: 0px 1px 2px rgba(60, 64, 67, 0.3), 0px 1px 3px 1px rgba(60, 64, 67, 0.15);\n",
              "      fill: #174EA6;\n",
              "    }\n",
              "\n",
              "    [theme=dark] .colab-df-convert {\n",
              "      background-color: #3B4455;\n",
              "      fill: #D2E3FC;\n",
              "    }\n",
              "\n",
              "    [theme=dark] .colab-df-convert:hover {\n",
              "      background-color: #434B5C;\n",
              "      box-shadow: 0px 1px 3px 1px rgba(0, 0, 0, 0.15);\n",
              "      filter: drop-shadow(0px 1px 2px rgba(0, 0, 0, 0.3));\n",
              "      fill: #FFFFFF;\n",
              "    }\n",
              "  </style>\n",
              "\n",
              "      <script>\n",
              "        const buttonEl =\n",
              "          document.querySelector('#df-e05b53c3-03da-4997-aa76-b3b87239e8cf button.colab-df-convert');\n",
              "        buttonEl.style.display =\n",
              "          google.colab.kernel.accessAllowed ? 'block' : 'none';\n",
              "\n",
              "        async function convertToInteractive(key) {\n",
              "          const element = document.querySelector('#df-e05b53c3-03da-4997-aa76-b3b87239e8cf');\n",
              "          const dataTable =\n",
              "            await google.colab.kernel.invokeFunction('convertToInteractive',\n",
              "                                                     [key], {});\n",
              "          if (!dataTable) return;\n",
              "\n",
              "          const docLinkHtml = 'Like what you see? Visit the ' +\n",
              "            '<a target=\"_blank\" href=https://colab.research.google.com/notebooks/data_table.ipynb>data table notebook</a>'\n",
              "            + ' to learn more about interactive tables.';\n",
              "          element.innerHTML = '';\n",
              "          dataTable['output_type'] = 'display_data';\n",
              "          await google.colab.output.renderOutput(dataTable, element);\n",
              "          const docLink = document.createElement('div');\n",
              "          docLink.innerHTML = docLinkHtml;\n",
              "          element.appendChild(docLink);\n",
              "        }\n",
              "      </script>\n",
              "    </div>\n",
              "  </div>\n",
              "  "
            ],
            "text/plain": [
              "   Loyal_Users  Total_Users  Percentage_of_Retentive_Users\n",
              "0         1041       100000                          1.041"
            ]
          },
          "execution_count": 20,
          "metadata": {},
          "output_type": "execute_result"
        }
      ],
      "source": [
        "Retention_Rate"
      ]
    },
    {
      "cell_type": "markdown",
      "metadata": {
        "id": "kdmPcDnqFoM3"
      },
      "source": [
        "There are only a bit more than a thousand users considered retentive out of one hundred thousand users in our database. Retentive users consist only 1 percent of our user base, making them a rarity."
      ]
    },
    {
      "cell_type": "markdown",
      "metadata": {
        "id": "zdRkx5VbI2z4"
      },
      "source": [
        "##**C.2. How much is the highest, lowest and average number of transactions of retentive users?**"
      ]
    },
    {
      "cell_type": "markdown",
      "metadata": {
        "id": "Bj_QoCyIGNSe"
      },
      "source": [
        "Now we know that retentive users are not common among our user base, but just how many purchases do they make?"
      ]
    },
    {
      "cell_type": "code",
      "execution_count": null,
      "metadata": {
        "colab": {
          "base_uri": "https://localhost:8080/",
          "height": 81
        },
        "id": "KB7QFoAB0B-4",
        "outputId": "62c5b4d1-35b6-442b-a5e9-32558404656b"
      },
      "outputs": [
        {
          "data": {
            "text/html": [
              "\n",
              "  <div id=\"df-ae6a42f7-996d-471a-8f1d-74198e2da412\">\n",
              "    <div class=\"colab-df-container\">\n",
              "      <div>\n",
              "<style scoped>\n",
              "    .dataframe tbody tr th:only-of-type {\n",
              "        vertical-align: middle;\n",
              "    }\n",
              "\n",
              "    .dataframe tbody tr th {\n",
              "        vertical-align: top;\n",
              "    }\n",
              "\n",
              "    .dataframe thead th {\n",
              "        text-align: right;\n",
              "    }\n",
              "</style>\n",
              "<table border=\"1\" class=\"dataframe\">\n",
              "  <thead>\n",
              "    <tr style=\"text-align: right;\">\n",
              "      <th></th>\n",
              "      <th>Lowest_Number_of_Transactions</th>\n",
              "      <th>Highest_Number_of_Transactions</th>\n",
              "      <th>Average_Number_of_Transactions</th>\n",
              "    </tr>\n",
              "  </thead>\n",
              "  <tbody>\n",
              "    <tr>\n",
              "      <th>0</th>\n",
              "      <td>3</td>\n",
              "      <td>4</td>\n",
              "      <td>3.161383</td>\n",
              "    </tr>\n",
              "  </tbody>\n",
              "</table>\n",
              "</div>\n",
              "      <button class=\"colab-df-convert\" onclick=\"convertToInteractive('df-ae6a42f7-996d-471a-8f1d-74198e2da412')\"\n",
              "              title=\"Convert this dataframe to an interactive table.\"\n",
              "              style=\"display:none;\">\n",
              "        \n",
              "  <svg xmlns=\"http://www.w3.org/2000/svg\" height=\"24px\"viewBox=\"0 0 24 24\"\n",
              "       width=\"24px\">\n",
              "    <path d=\"M0 0h24v24H0V0z\" fill=\"none\"/>\n",
              "    <path d=\"M18.56 5.44l.94 2.06.94-2.06 2.06-.94-2.06-.94-.94-2.06-.94 2.06-2.06.94zm-11 1L8.5 8.5l.94-2.06 2.06-.94-2.06-.94L8.5 2.5l-.94 2.06-2.06.94zm10 10l.94 2.06.94-2.06 2.06-.94-2.06-.94-.94-2.06-.94 2.06-2.06.94z\"/><path d=\"M17.41 7.96l-1.37-1.37c-.4-.4-.92-.59-1.43-.59-.52 0-1.04.2-1.43.59L10.3 9.45l-7.72 7.72c-.78.78-.78 2.05 0 2.83L4 21.41c.39.39.9.59 1.41.59.51 0 1.02-.2 1.41-.59l7.78-7.78 2.81-2.81c.8-.78.8-2.07 0-2.86zM5.41 20L4 18.59l7.72-7.72 1.47 1.35L5.41 20z\"/>\n",
              "  </svg>\n",
              "      </button>\n",
              "      \n",
              "  <style>\n",
              "    .colab-df-container {\n",
              "      display:flex;\n",
              "      flex-wrap:wrap;\n",
              "      gap: 12px;\n",
              "    }\n",
              "\n",
              "    .colab-df-convert {\n",
              "      background-color: #E8F0FE;\n",
              "      border: none;\n",
              "      border-radius: 50%;\n",
              "      cursor: pointer;\n",
              "      display: none;\n",
              "      fill: #1967D2;\n",
              "      height: 32px;\n",
              "      padding: 0 0 0 0;\n",
              "      width: 32px;\n",
              "    }\n",
              "\n",
              "    .colab-df-convert:hover {\n",
              "      background-color: #E2EBFA;\n",
              "      box-shadow: 0px 1px 2px rgba(60, 64, 67, 0.3), 0px 1px 3px 1px rgba(60, 64, 67, 0.15);\n",
              "      fill: #174EA6;\n",
              "    }\n",
              "\n",
              "    [theme=dark] .colab-df-convert {\n",
              "      background-color: #3B4455;\n",
              "      fill: #D2E3FC;\n",
              "    }\n",
              "\n",
              "    [theme=dark] .colab-df-convert:hover {\n",
              "      background-color: #434B5C;\n",
              "      box-shadow: 0px 1px 3px 1px rgba(0, 0, 0, 0.15);\n",
              "      filter: drop-shadow(0px 1px 2px rgba(0, 0, 0, 0.3));\n",
              "      fill: #FFFFFF;\n",
              "    }\n",
              "  </style>\n",
              "\n",
              "      <script>\n",
              "        const buttonEl =\n",
              "          document.querySelector('#df-ae6a42f7-996d-471a-8f1d-74198e2da412 button.colab-df-convert');\n",
              "        buttonEl.style.display =\n",
              "          google.colab.kernel.accessAllowed ? 'block' : 'none';\n",
              "\n",
              "        async function convertToInteractive(key) {\n",
              "          const element = document.querySelector('#df-ae6a42f7-996d-471a-8f1d-74198e2da412');\n",
              "          const dataTable =\n",
              "            await google.colab.kernel.invokeFunction('convertToInteractive',\n",
              "                                                     [key], {});\n",
              "          if (!dataTable) return;\n",
              "\n",
              "          const docLinkHtml = 'Like what you see? Visit the ' +\n",
              "            '<a target=\"_blank\" href=https://colab.research.google.com/notebooks/data_table.ipynb>data table notebook</a>'\n",
              "            + ' to learn more about interactive tables.';\n",
              "          element.innerHTML = '';\n",
              "          dataTable['output_type'] = 'display_data';\n",
              "          await google.colab.output.renderOutput(dataTable, element);\n",
              "          const docLink = document.createElement('div');\n",
              "          docLink.innerHTML = docLinkHtml;\n",
              "          element.appendChild(docLink);\n",
              "        }\n",
              "      </script>\n",
              "    </div>\n",
              "  </div>\n",
              "  "
            ],
            "text/plain": [
              "   Lowest_Number_of_Transactions  Highest_Number_of_Transactions  \\\n",
              "0                              3                               4   \n",
              "\n",
              "   Average_Number_of_Transactions  \n",
              "0                        3.161383  "
            ]
          },
          "execution_count": 21,
          "metadata": {},
          "output_type": "execute_result"
        }
      ],
      "source": [
        "Retentive_User_Stats"
      ]
    },
    {
      "cell_type": "markdown",
      "metadata": {
        "id": "OK1ZpLfcGcJL"
      },
      "source": [
        "Retentive users only made 3 or 4 purchases within first semester of 2022. With the average number falls closer to 3 than 4, it seems most retentive users only made 3 purchases in the time period."
      ]
    },
    {
      "cell_type": "markdown",
      "metadata": {
        "id": "ayWe2NY9JhtG"
      },
      "source": [
        "##**C.3. How much is the highest, lowest and average spending of retentive users?**"
      ]
    },
    {
      "cell_type": "markdown",
      "metadata": {
        "id": "NwVqQ_vrHHaQ"
      },
      "source": [
        "And how much do they spend during the time period?"
      ]
    },
    {
      "cell_type": "code",
      "execution_count": null,
      "metadata": {
        "colab": {
          "base_uri": "https://localhost:8080/",
          "height": 81
        },
        "id": "lqpAWddS0naw",
        "outputId": "ab3349cb-6671-4181-bea9-8a80725acbe1"
      },
      "outputs": [
        {
          "data": {
            "text/html": [
              "\n",
              "  <div id=\"df-15c1a5b0-6427-4692-9294-934d44834ebf\">\n",
              "    <div class=\"colab-df-container\">\n",
              "      <div>\n",
              "<style scoped>\n",
              "    .dataframe tbody tr th:only-of-type {\n",
              "        vertical-align: middle;\n",
              "    }\n",
              "\n",
              "    .dataframe tbody tr th {\n",
              "        vertical-align: top;\n",
              "    }\n",
              "\n",
              "    .dataframe thead th {\n",
              "        text-align: right;\n",
              "    }\n",
              "</style>\n",
              "<table border=\"1\" class=\"dataframe\">\n",
              "  <thead>\n",
              "    <tr style=\"text-align: right;\">\n",
              "      <th></th>\n",
              "      <th>Lowest_Spending</th>\n",
              "      <th>Highest_Spending</th>\n",
              "      <th>Average_Spending</th>\n",
              "    </tr>\n",
              "  </thead>\n",
              "  <tbody>\n",
              "    <tr>\n",
              "      <th>0</th>\n",
              "      <td>45.929999</td>\n",
              "      <td>1156.889996</td>\n",
              "      <td>272.147215</td>\n",
              "    </tr>\n",
              "  </tbody>\n",
              "</table>\n",
              "</div>\n",
              "      <button class=\"colab-df-convert\" onclick=\"convertToInteractive('df-15c1a5b0-6427-4692-9294-934d44834ebf')\"\n",
              "              title=\"Convert this dataframe to an interactive table.\"\n",
              "              style=\"display:none;\">\n",
              "        \n",
              "  <svg xmlns=\"http://www.w3.org/2000/svg\" height=\"24px\"viewBox=\"0 0 24 24\"\n",
              "       width=\"24px\">\n",
              "    <path d=\"M0 0h24v24H0V0z\" fill=\"none\"/>\n",
              "    <path d=\"M18.56 5.44l.94 2.06.94-2.06 2.06-.94-2.06-.94-.94-2.06-.94 2.06-2.06.94zm-11 1L8.5 8.5l.94-2.06 2.06-.94-2.06-.94L8.5 2.5l-.94 2.06-2.06.94zm10 10l.94 2.06.94-2.06 2.06-.94-2.06-.94-.94-2.06-.94 2.06-2.06.94z\"/><path d=\"M17.41 7.96l-1.37-1.37c-.4-.4-.92-.59-1.43-.59-.52 0-1.04.2-1.43.59L10.3 9.45l-7.72 7.72c-.78.78-.78 2.05 0 2.83L4 21.41c.39.39.9.59 1.41.59.51 0 1.02-.2 1.41-.59l7.78-7.78 2.81-2.81c.8-.78.8-2.07 0-2.86zM5.41 20L4 18.59l7.72-7.72 1.47 1.35L5.41 20z\"/>\n",
              "  </svg>\n",
              "      </button>\n",
              "      \n",
              "  <style>\n",
              "    .colab-df-container {\n",
              "      display:flex;\n",
              "      flex-wrap:wrap;\n",
              "      gap: 12px;\n",
              "    }\n",
              "\n",
              "    .colab-df-convert {\n",
              "      background-color: #E8F0FE;\n",
              "      border: none;\n",
              "      border-radius: 50%;\n",
              "      cursor: pointer;\n",
              "      display: none;\n",
              "      fill: #1967D2;\n",
              "      height: 32px;\n",
              "      padding: 0 0 0 0;\n",
              "      width: 32px;\n",
              "    }\n",
              "\n",
              "    .colab-df-convert:hover {\n",
              "      background-color: #E2EBFA;\n",
              "      box-shadow: 0px 1px 2px rgba(60, 64, 67, 0.3), 0px 1px 3px 1px rgba(60, 64, 67, 0.15);\n",
              "      fill: #174EA6;\n",
              "    }\n",
              "\n",
              "    [theme=dark] .colab-df-convert {\n",
              "      background-color: #3B4455;\n",
              "      fill: #D2E3FC;\n",
              "    }\n",
              "\n",
              "    [theme=dark] .colab-df-convert:hover {\n",
              "      background-color: #434B5C;\n",
              "      box-shadow: 0px 1px 3px 1px rgba(0, 0, 0, 0.15);\n",
              "      filter: drop-shadow(0px 1px 2px rgba(0, 0, 0, 0.3));\n",
              "      fill: #FFFFFF;\n",
              "    }\n",
              "  </style>\n",
              "\n",
              "      <script>\n",
              "        const buttonEl =\n",
              "          document.querySelector('#df-15c1a5b0-6427-4692-9294-934d44834ebf button.colab-df-convert');\n",
              "        buttonEl.style.display =\n",
              "          google.colab.kernel.accessAllowed ? 'block' : 'none';\n",
              "\n",
              "        async function convertToInteractive(key) {\n",
              "          const element = document.querySelector('#df-15c1a5b0-6427-4692-9294-934d44834ebf');\n",
              "          const dataTable =\n",
              "            await google.colab.kernel.invokeFunction('convertToInteractive',\n",
              "                                                     [key], {});\n",
              "          if (!dataTable) return;\n",
              "\n",
              "          const docLinkHtml = 'Like what you see? Visit the ' +\n",
              "            '<a target=\"_blank\" href=https://colab.research.google.com/notebooks/data_table.ipynb>data table notebook</a>'\n",
              "            + ' to learn more about interactive tables.';\n",
              "          element.innerHTML = '';\n",
              "          dataTable['output_type'] = 'display_data';\n",
              "          await google.colab.output.renderOutput(dataTable, element);\n",
              "          const docLink = document.createElement('div');\n",
              "          docLink.innerHTML = docLinkHtml;\n",
              "          element.appendChild(docLink);\n",
              "        }\n",
              "      </script>\n",
              "    </div>\n",
              "  </div>\n",
              "  "
            ],
            "text/plain": [
              "   Lowest_Spending  Highest_Spending  Average_Spending\n",
              "0        45.929999       1156.889996        272.147215"
            ]
          },
          "execution_count": 22,
          "metadata": {},
          "output_type": "execute_result"
        }
      ],
      "source": [
        "Retentive_User_Spending"
      ]
    },
    {
      "cell_type": "markdown",
      "metadata": {
        "id": "Y4PFYSiLH0RM"
      },
      "source": [
        "While one of the retentive users spent more than 1000 dollars during the time period, another spent only a little below 46 dollars. The average spending amount leans towards the latter at 272 dollars."
      ]
    },
    {
      "cell_type": "markdown",
      "metadata": {
        "id": "hbl9BOxrJCcm"
      },
      "source": [
        "##**C.4. From what traffic sources do retentive users come?**"
      ]
    },
    {
      "cell_type": "markdown",
      "metadata": {
        "id": "3WMNdd9wJ1B_"
      },
      "source": [
        "Next, we want to find out where do these prized users found their way to make purchase in our company."
      ]
    },
    {
      "cell_type": "code",
      "execution_count": null,
      "metadata": {
        "colab": {
          "base_uri": "https://localhost:8080/",
          "height": 206
        },
        "id": "oiAhKekp0n__",
        "outputId": "904446f2-922d-499a-dd48-37a913608c35"
      },
      "outputs": [
        {
          "data": {
            "text/html": [
              "\n",
              "  <div id=\"df-147662c6-a7e5-453c-bea4-4e0a0c27df3d\">\n",
              "    <div class=\"colab-df-container\">\n",
              "      <div>\n",
              "<style scoped>\n",
              "    .dataframe tbody tr th:only-of-type {\n",
              "        vertical-align: middle;\n",
              "    }\n",
              "\n",
              "    .dataframe tbody tr th {\n",
              "        vertical-align: top;\n",
              "    }\n",
              "\n",
              "    .dataframe thead th {\n",
              "        text-align: right;\n",
              "    }\n",
              "</style>\n",
              "<table border=\"1\" class=\"dataframe\">\n",
              "  <thead>\n",
              "    <tr style=\"text-align: right;\">\n",
              "      <th></th>\n",
              "      <th>Traffic_Source</th>\n",
              "      <th>Numbers</th>\n",
              "    </tr>\n",
              "  </thead>\n",
              "  <tbody>\n",
              "    <tr>\n",
              "      <th>0</th>\n",
              "      <td>Search</td>\n",
              "      <td>739</td>\n",
              "    </tr>\n",
              "    <tr>\n",
              "      <th>1</th>\n",
              "      <td>Organic</td>\n",
              "      <td>136</td>\n",
              "    </tr>\n",
              "    <tr>\n",
              "      <th>2</th>\n",
              "      <td>Facebook</td>\n",
              "      <td>67</td>\n",
              "    </tr>\n",
              "    <tr>\n",
              "      <th>3</th>\n",
              "      <td>Email</td>\n",
              "      <td>55</td>\n",
              "    </tr>\n",
              "    <tr>\n",
              "      <th>4</th>\n",
              "      <td>Display</td>\n",
              "      <td>44</td>\n",
              "    </tr>\n",
              "  </tbody>\n",
              "</table>\n",
              "</div>\n",
              "      <button class=\"colab-df-convert\" onclick=\"convertToInteractive('df-147662c6-a7e5-453c-bea4-4e0a0c27df3d')\"\n",
              "              title=\"Convert this dataframe to an interactive table.\"\n",
              "              style=\"display:none;\">\n",
              "        \n",
              "  <svg xmlns=\"http://www.w3.org/2000/svg\" height=\"24px\"viewBox=\"0 0 24 24\"\n",
              "       width=\"24px\">\n",
              "    <path d=\"M0 0h24v24H0V0z\" fill=\"none\"/>\n",
              "    <path d=\"M18.56 5.44l.94 2.06.94-2.06 2.06-.94-2.06-.94-.94-2.06-.94 2.06-2.06.94zm-11 1L8.5 8.5l.94-2.06 2.06-.94-2.06-.94L8.5 2.5l-.94 2.06-2.06.94zm10 10l.94 2.06.94-2.06 2.06-.94-2.06-.94-.94-2.06-.94 2.06-2.06.94z\"/><path d=\"M17.41 7.96l-1.37-1.37c-.4-.4-.92-.59-1.43-.59-.52 0-1.04.2-1.43.59L10.3 9.45l-7.72 7.72c-.78.78-.78 2.05 0 2.83L4 21.41c.39.39.9.59 1.41.59.51 0 1.02-.2 1.41-.59l7.78-7.78 2.81-2.81c.8-.78.8-2.07 0-2.86zM5.41 20L4 18.59l7.72-7.72 1.47 1.35L5.41 20z\"/>\n",
              "  </svg>\n",
              "      </button>\n",
              "      \n",
              "  <style>\n",
              "    .colab-df-container {\n",
              "      display:flex;\n",
              "      flex-wrap:wrap;\n",
              "      gap: 12px;\n",
              "    }\n",
              "\n",
              "    .colab-df-convert {\n",
              "      background-color: #E8F0FE;\n",
              "      border: none;\n",
              "      border-radius: 50%;\n",
              "      cursor: pointer;\n",
              "      display: none;\n",
              "      fill: #1967D2;\n",
              "      height: 32px;\n",
              "      padding: 0 0 0 0;\n",
              "      width: 32px;\n",
              "    }\n",
              "\n",
              "    .colab-df-convert:hover {\n",
              "      background-color: #E2EBFA;\n",
              "      box-shadow: 0px 1px 2px rgba(60, 64, 67, 0.3), 0px 1px 3px 1px rgba(60, 64, 67, 0.15);\n",
              "      fill: #174EA6;\n",
              "    }\n",
              "\n",
              "    [theme=dark] .colab-df-convert {\n",
              "      background-color: #3B4455;\n",
              "      fill: #D2E3FC;\n",
              "    }\n",
              "\n",
              "    [theme=dark] .colab-df-convert:hover {\n",
              "      background-color: #434B5C;\n",
              "      box-shadow: 0px 1px 3px 1px rgba(0, 0, 0, 0.15);\n",
              "      filter: drop-shadow(0px 1px 2px rgba(0, 0, 0, 0.3));\n",
              "      fill: #FFFFFF;\n",
              "    }\n",
              "  </style>\n",
              "\n",
              "      <script>\n",
              "        const buttonEl =\n",
              "          document.querySelector('#df-147662c6-a7e5-453c-bea4-4e0a0c27df3d button.colab-df-convert');\n",
              "        buttonEl.style.display =\n",
              "          google.colab.kernel.accessAllowed ? 'block' : 'none';\n",
              "\n",
              "        async function convertToInteractive(key) {\n",
              "          const element = document.querySelector('#df-147662c6-a7e5-453c-bea4-4e0a0c27df3d');\n",
              "          const dataTable =\n",
              "            await google.colab.kernel.invokeFunction('convertToInteractive',\n",
              "                                                     [key], {});\n",
              "          if (!dataTable) return;\n",
              "\n",
              "          const docLinkHtml = 'Like what you see? Visit the ' +\n",
              "            '<a target=\"_blank\" href=https://colab.research.google.com/notebooks/data_table.ipynb>data table notebook</a>'\n",
              "            + ' to learn more about interactive tables.';\n",
              "          element.innerHTML = '';\n",
              "          dataTable['output_type'] = 'display_data';\n",
              "          await google.colab.output.renderOutput(dataTable, element);\n",
              "          const docLink = document.createElement('div');\n",
              "          docLink.innerHTML = docLinkHtml;\n",
              "          element.appendChild(docLink);\n",
              "        }\n",
              "      </script>\n",
              "    </div>\n",
              "  </div>\n",
              "  "
            ],
            "text/plain": [
              "  Traffic_Source  Numbers\n",
              "0         Search      739\n",
              "1        Organic      136\n",
              "2       Facebook       67\n",
              "3          Email       55\n",
              "4        Display       44"
            ]
          },
          "execution_count": 25,
          "metadata": {},
          "output_type": "execute_result"
        }
      ],
      "source": [
        "Retentive_User_Source"
      ]
    },
    {
      "cell_type": "markdown",
      "metadata": {
        "id": "fegW7NV4KF3B"
      },
      "source": [
        "Almost all of our retentive users made purchase through specific search. Organic search came on second at only one-tenth of all of them while the rest is divided fairly even between other three sources."
      ]
    },
    {
      "cell_type": "markdown",
      "metadata": {
        "id": "NaRhLeQlJDtm"
      },
      "source": [
        "##**C.5. Is there a correlation between traffic sources and user retention?**"
      ]
    },
    {
      "cell_type": "markdown",
      "metadata": {
        "id": "9GBJkzulLv6B"
      },
      "source": [
        "The findings in traffic source table helped us refine our question as to whether a factor could influence user retention. We are going to test if trffic source do correlates with user retention by using the Chi-square method. \n",
        "\n",
        "Let's begin with establishing hypotheses:\n",
        "\n",
        "H0: There are correlation between user traffic source and retention. Marked with P value equal or less than 0.05\n",
        "\n",
        "H1: There are no correlation between user traffic source and retention. Marked with P value more than 0.05"
      ]
    },
    {
      "cell_type": "code",
      "execution_count": null,
      "metadata": {
        "colab": {
          "base_uri": "https://localhost:8080/",
          "height": 424
        },
        "id": "_h3Y7AHR0o8q",
        "outputId": "2973df0f-3faa-4ba3-8bd2-527873a4da85"
      },
      "outputs": [
        {
          "data": {
            "text/html": [
              "\n",
              "  <div id=\"df-b977344a-e089-40e7-a63a-ea4d934b3f55\">\n",
              "    <div class=\"colab-df-container\">\n",
              "      <div>\n",
              "<style scoped>\n",
              "    .dataframe tbody tr th:only-of-type {\n",
              "        vertical-align: middle;\n",
              "    }\n",
              "\n",
              "    .dataframe tbody tr th {\n",
              "        vertical-align: top;\n",
              "    }\n",
              "\n",
              "    .dataframe thead th {\n",
              "        text-align: right;\n",
              "    }\n",
              "</style>\n",
              "<table border=\"1\" class=\"dataframe\">\n",
              "  <thead>\n",
              "    <tr style=\"text-align: right;\">\n",
              "      <th></th>\n",
              "      <th>Traffic_Source</th>\n",
              "      <th>User_Retention</th>\n",
              "    </tr>\n",
              "  </thead>\n",
              "  <tbody>\n",
              "    <tr>\n",
              "      <th>0</th>\n",
              "      <td>Organic</td>\n",
              "      <td>Intermittent</td>\n",
              "    </tr>\n",
              "    <tr>\n",
              "      <th>1</th>\n",
              "      <td>Search</td>\n",
              "      <td>Intermittent</td>\n",
              "    </tr>\n",
              "    <tr>\n",
              "      <th>2</th>\n",
              "      <td>Search</td>\n",
              "      <td>Intermittent</td>\n",
              "    </tr>\n",
              "    <tr>\n",
              "      <th>3</th>\n",
              "      <td>Search</td>\n",
              "      <td>Intermittent</td>\n",
              "    </tr>\n",
              "    <tr>\n",
              "      <th>4</th>\n",
              "      <td>Search</td>\n",
              "      <td>Intermittent</td>\n",
              "    </tr>\n",
              "    <tr>\n",
              "      <th>...</th>\n",
              "      <td>...</td>\n",
              "      <td>...</td>\n",
              "    </tr>\n",
              "    <tr>\n",
              "      <th>99995</th>\n",
              "      <td>Search</td>\n",
              "      <td>Intermittent</td>\n",
              "    </tr>\n",
              "    <tr>\n",
              "      <th>99996</th>\n",
              "      <td>Display</td>\n",
              "      <td>Intermittent</td>\n",
              "    </tr>\n",
              "    <tr>\n",
              "      <th>99997</th>\n",
              "      <td>Facebook</td>\n",
              "      <td>Intermittent</td>\n",
              "    </tr>\n",
              "    <tr>\n",
              "      <th>99998</th>\n",
              "      <td>Search</td>\n",
              "      <td>Intermittent</td>\n",
              "    </tr>\n",
              "    <tr>\n",
              "      <th>99999</th>\n",
              "      <td>Display</td>\n",
              "      <td>Intermittent</td>\n",
              "    </tr>\n",
              "  </tbody>\n",
              "</table>\n",
              "<p>100000 rows × 2 columns</p>\n",
              "</div>\n",
              "      <button class=\"colab-df-convert\" onclick=\"convertToInteractive('df-b977344a-e089-40e7-a63a-ea4d934b3f55')\"\n",
              "              title=\"Convert this dataframe to an interactive table.\"\n",
              "              style=\"display:none;\">\n",
              "        \n",
              "  <svg xmlns=\"http://www.w3.org/2000/svg\" height=\"24px\"viewBox=\"0 0 24 24\"\n",
              "       width=\"24px\">\n",
              "    <path d=\"M0 0h24v24H0V0z\" fill=\"none\"/>\n",
              "    <path d=\"M18.56 5.44l.94 2.06.94-2.06 2.06-.94-2.06-.94-.94-2.06-.94 2.06-2.06.94zm-11 1L8.5 8.5l.94-2.06 2.06-.94-2.06-.94L8.5 2.5l-.94 2.06-2.06.94zm10 10l.94 2.06.94-2.06 2.06-.94-2.06-.94-.94-2.06-.94 2.06-2.06.94z\"/><path d=\"M17.41 7.96l-1.37-1.37c-.4-.4-.92-.59-1.43-.59-.52 0-1.04.2-1.43.59L10.3 9.45l-7.72 7.72c-.78.78-.78 2.05 0 2.83L4 21.41c.39.39.9.59 1.41.59.51 0 1.02-.2 1.41-.59l7.78-7.78 2.81-2.81c.8-.78.8-2.07 0-2.86zM5.41 20L4 18.59l7.72-7.72 1.47 1.35L5.41 20z\"/>\n",
              "  </svg>\n",
              "      </button>\n",
              "      \n",
              "  <style>\n",
              "    .colab-df-container {\n",
              "      display:flex;\n",
              "      flex-wrap:wrap;\n",
              "      gap: 12px;\n",
              "    }\n",
              "\n",
              "    .colab-df-convert {\n",
              "      background-color: #E8F0FE;\n",
              "      border: none;\n",
              "      border-radius: 50%;\n",
              "      cursor: pointer;\n",
              "      display: none;\n",
              "      fill: #1967D2;\n",
              "      height: 32px;\n",
              "      padding: 0 0 0 0;\n",
              "      width: 32px;\n",
              "    }\n",
              "\n",
              "    .colab-df-convert:hover {\n",
              "      background-color: #E2EBFA;\n",
              "      box-shadow: 0px 1px 2px rgba(60, 64, 67, 0.3), 0px 1px 3px 1px rgba(60, 64, 67, 0.15);\n",
              "      fill: #174EA6;\n",
              "    }\n",
              "\n",
              "    [theme=dark] .colab-df-convert {\n",
              "      background-color: #3B4455;\n",
              "      fill: #D2E3FC;\n",
              "    }\n",
              "\n",
              "    [theme=dark] .colab-df-convert:hover {\n",
              "      background-color: #434B5C;\n",
              "      box-shadow: 0px 1px 3px 1px rgba(0, 0, 0, 0.15);\n",
              "      filter: drop-shadow(0px 1px 2px rgba(0, 0, 0, 0.3));\n",
              "      fill: #FFFFFF;\n",
              "    }\n",
              "  </style>\n",
              "\n",
              "      <script>\n",
              "        const buttonEl =\n",
              "          document.querySelector('#df-b977344a-e089-40e7-a63a-ea4d934b3f55 button.colab-df-convert');\n",
              "        buttonEl.style.display =\n",
              "          google.colab.kernel.accessAllowed ? 'block' : 'none';\n",
              "\n",
              "        async function convertToInteractive(key) {\n",
              "          const element = document.querySelector('#df-b977344a-e089-40e7-a63a-ea4d934b3f55');\n",
              "          const dataTable =\n",
              "            await google.colab.kernel.invokeFunction('convertToInteractive',\n",
              "                                                     [key], {});\n",
              "          if (!dataTable) return;\n",
              "\n",
              "          const docLinkHtml = 'Like what you see? Visit the ' +\n",
              "            '<a target=\"_blank\" href=https://colab.research.google.com/notebooks/data_table.ipynb>data table notebook</a>'\n",
              "            + ' to learn more about interactive tables.';\n",
              "          element.innerHTML = '';\n",
              "          dataTable['output_type'] = 'display_data';\n",
              "          await google.colab.output.renderOutput(dataTable, element);\n",
              "          const docLink = document.createElement('div');\n",
              "          docLink.innerHTML = docLinkHtml;\n",
              "          element.appendChild(docLink);\n",
              "        }\n",
              "      </script>\n",
              "    </div>\n",
              "  </div>\n",
              "  "
            ],
            "text/plain": [
              "      Traffic_Source User_Retention\n",
              "0            Organic   Intermittent\n",
              "1             Search   Intermittent\n",
              "2             Search   Intermittent\n",
              "3             Search   Intermittent\n",
              "4             Search   Intermittent\n",
              "...              ...            ...\n",
              "99995         Search   Intermittent\n",
              "99996        Display   Intermittent\n",
              "99997       Facebook   Intermittent\n",
              "99998         Search   Intermittent\n",
              "99999        Display   Intermittent\n",
              "\n",
              "[100000 rows x 2 columns]"
            ]
          },
          "execution_count": 27,
          "metadata": {},
          "output_type": "execute_result"
        }
      ],
      "source": [
        "Source_and_Retention"
      ]
    },
    {
      "cell_type": "code",
      "execution_count": null,
      "metadata": {
        "colab": {
          "base_uri": "https://localhost:8080/"
        },
        "id": "ycpyAA9I1pfl",
        "outputId": "81dd0528-b8c9-4044-8083-b07c42ffd12d"
      },
      "outputs": [
        {
          "name": "stdout",
          "output_type": "stream",
          "text": [
            "P Value = 0.546\n",
            "User traffic sources and retention rate are probably unrelated.\n"
          ]
        }
      ],
      "source": [
        "Chi_Table=pd.crosstab(Source_and_Retention['Traffic_Source'],Source_and_Retention['User_Retention'])\n",
        "stat, P, dof, expected = stats.chi2_contingency(Chi_Table)\n",
        "print('P value = %.3f' % (P))\n",
        "if P <= 0.05:\n",
        "    print('User traffic sources and retention rate are probably related.')\n",
        "else:\n",
        "    print('User traffic sources and retention rate are probably unrelated.')"
      ]
    },
    {
      "cell_type": "markdown",
      "metadata": {
        "id": "tZD5QaxnMZQb"
      },
      "source": [
        "With P value well above the threshold, we reject null hypothesis (H0). It seems from the test that user traffic sources and retention rate are not related with each other."
      ]
    },
    {
      "cell_type": "markdown",
      "metadata": {
        "id": "zejw775eJT-u"
      },
      "source": [
        "#**D. Verdicts**"
      ]
    },
    {
      "cell_type": "markdown",
      "metadata": {
        "id": "kaTaFHy5Jekj"
      },
      "source": [
        "##**Analyses**"
      ]
    },
    {
      "cell_type": "markdown",
      "metadata": {
        "id": "AtpVEB5GTCAa"
      },
      "source": [
        "We have succesfully answered questions in the problem statements. The queries provided clear measures as to what is, who are, how much, when and where do retentive users come from and made purchase from our company. We set the standard of retentive user as a user who made 3 or more transactions within the first semester of year 2022 and from there we have measured some metrics on them.\n",
        "\n",
        "First, we found out that retentive users are considered rare at only around 1% of total users. While rare, they don't spend much or more often than intermittent users.\n",
        "\n",
        "Then, we used traffic source as subject in our test to see if it correlates to user retention. While retentive users show very significant preference to come by search, the test concluded that there is no strong correlation between that and user retention, which could mean that the trait is also shared by intermittent users. \n",
        "\n"
      ]
    },
    {
      "cell_type": "markdown",
      "metadata": {
        "id": "q7YYuTAJJZFJ"
      },
      "source": [
        "##**Assumptions**"
      ]
    },
    {
      "cell_type": "markdown",
      "metadata": {
        "id": "W_X02THgWdJ5"
      },
      "source": [
        "By those analyses, we could assume that there's no actual \"retention\" in our user base by the established standard. Those who are considered retentive aren't that much different than others who aren't. Our main assumption is that individual users don't purchase fashion items so often like other commodities. \n",
        "\n",
        "With these we could better focus our effort in expanding our user base or marketing high value purchases instead of catering to user retention. We could increase our conversion funnel with marketing and direct our user base towards more profitable items."
      ]
    },
    {
      "cell_type": "markdown",
      "metadata": {
        "id": "Vzx6p9mxJVSj"
      },
      "source": [
        "##**Conclusion**"
      ]
    },
    {
      "cell_type": "markdown",
      "metadata": {
        "id": "FwyLhiOaZDhQ"
      },
      "source": [
        "We wrap this assignment by saying that the pursue of user retention is would likely be fruitless than widening and strengthening our user base."
      ]
    }
  ],
  "metadata": {
    "colab": {
      "collapsed_sections": [
        "UFxn0Dd0d0s5",
        "kHQlQqU4d0s6",
        "HxDFFBHvmcj0",
        "AwIYe1G1pgMx",
        "ppsFcdLSpoxd",
        "rTHXOC0dwXcR",
        "USTy66nXvU_z",
        "9OCytPyk5xxZ",
        "9MLaDOmAIoL0",
        "zdRkx5VbI2z4",
        "ayWe2NY9JhtG",
        "hbl9BOxrJCcm",
        "NaRhLeQlJDtm",
        "zejw775eJT-u",
        "kaTaFHy5Jekj",
        "q7YYuTAJJZFJ"
      ],
      "name": "h8dsft_P0W3_ihsan_aulia_rahman.ipynb",
      "provenance": []
    },
    "gpuClass": "standard",
    "kernelspec": {
      "display_name": "Python 3.9.12 ('base')",
      "language": "python",
      "name": "python3"
    },
    "language_info": {
      "codemirror_mode": {
        "name": "ipython",
        "version": 3
      },
      "file_extension": ".py",
      "mimetype": "text/x-python",
      "name": "python",
      "nbconvert_exporter": "python",
      "pygments_lexer": "ipython3",
      "version": "3.9.12"
    },
    "orig_nbformat": 4,
    "vscode": {
      "interpreter": {
        "hash": "8729cc833bbf327f7266d01ded31405701701a7d3e257bb9fce582aaef9de1ab"
      }
    }
  },
  "nbformat": 4,
  "nbformat_minor": 0
}
